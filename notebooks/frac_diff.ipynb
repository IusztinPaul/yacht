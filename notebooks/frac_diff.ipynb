{
 "cells": [
  {
   "cell_type": "code",
   "execution_count": null,
   "id": "bfc62bd2",
   "metadata": {},
   "outputs": [],
   "source": [
    "import yfinance\n",
    "import mplfinance as mpf\n",
    "import matplotlib. pyplot as plt\n",
    "import numpy as np\n",
    "import pandas as pd\n",
    "\n",
    "from sklearn import preprocessing\n",
    "from stockstats import StockDataFrame\n",
    "from statsmodels.tsa.stattools import adfuller\n",
    "from typing import Tuple"
   ]
  },
  {
   "cell_type": "markdown",
   "id": "9825c0e6",
   "metadata": {},
   "source": [
    "# Download Data"
   ]
  },
  {
   "cell_type": "code",
   "execution_count": null,
   "id": "cac74829",
   "metadata": {},
   "outputs": [],
   "source": [
    "data = yfinance.download(\n",
    "            tickers=['AAPL'],\n",
    "            start='2021-01-01',\n",
    "            end=None,\n",
    "            interval='1d',\n",
    "            auto_adjust=True,\n",
    "            prepost=False\n",
    "        )"
   ]
  },
  {
   "cell_type": "code",
   "execution_count": null,
   "id": "6d1338ff",
   "metadata": {},
   "outputs": [],
   "source": [
    "data[['Close']].plot()"
   ]
  },
  {
   "cell_type": "code",
   "execution_count": null,
   "id": "1bf2b2df",
   "metadata": {},
   "outputs": [],
   "source": [
    "# Compute technical indicators\n",
    "TECHNICAL_INDICATORS = ['macd', 'macds', 'rsi_30', 'rsi_12', 'rsi_26']\n",
    "stock = StockDataFrame.retype(data.copy())\n",
    "for technical_indicator_name in TECHNICAL_INDICATORS:\n",
    "    oscillator_data = stock[technical_indicator_name]\n",
    "    data[technical_indicator_name] = oscillator_data\n",
    "data = data.bfill(axis='rows')"
   ]
  },
  {
   "cell_type": "code",
   "execution_count": null,
   "id": "07ae815e",
   "metadata": {},
   "outputs": [],
   "source": [
    "data.head()"
   ]
  },
  {
   "cell_type": "code",
   "execution_count": null,
   "id": "93b8e500",
   "metadata": {},
   "outputs": [],
   "source": [
    "data.tail()"
   ]
  },
  {
   "cell_type": "markdown",
   "id": "2845f903",
   "metadata": {},
   "source": [
    "# Bring Prices & Volume to Log Scale"
   ]
  },
  {
   "cell_type": "code",
   "execution_count": null,
   "id": "79e27762",
   "metadata": {},
   "outputs": [],
   "source": [
    "data[['Open', 'High', 'Low', 'Close', 'Volume']] = data[['Open', 'High', 'Low', 'Close', 'Volume']].apply(np.log)\n",
    "data.head()"
   ]
  },
  {
   "cell_type": "code",
   "execution_count": null,
   "id": "96032c8c",
   "metadata": {},
   "outputs": [],
   "source": [
    "data.tail()"
   ]
  },
  {
   "cell_type": "markdown",
   "id": "3b5f5475",
   "metadata": {},
   "source": [
    "# Compute Weights Functions"
   ]
  },
  {
   "cell_type": "code",
   "execution_count": null,
   "id": "e82a6b42",
   "metadata": {},
   "outputs": [],
   "source": [
    "def get_weights(d: int, thres: float) -> np.ndarray:\n",
    "    w, k = [1.], 1\n",
    "    \n",
    "    while True:\n",
    "        w_ = -w[-1] / k * (d - k + 1)\n",
    "        if abs(w_) < thres:\n",
    "            break\n",
    "        w.append(w_)\n",
    "        k += 1\n",
    "        \n",
    "    return np.array(w[::-1]).reshape(-1, 1)\n",
    "\n",
    "\n",
    "\n",
    "def get_fixed_weights(d: float, size: int) -> np.ndarray:\n",
    "    w = [1.]\n",
    "    \n",
    "    for k in range(1, size):\n",
    "        w_ = -w[-1] / k * (d - k + 1)\n",
    "        w.append(w_)\n",
    "    w = np.array(w[::-1]).reshape(-1, 1)\n",
    "    \n",
    "    return w\n",
    "\n",
    "\n",
    "\n",
    "def plot_weights(d_range: list, n_plots: int, size: int) -> None:\n",
    "    if len(d_range) == 1:\n",
    "        d_values = d_range\n",
    "    else:\n",
    "        d_values = np.linspace(d_range[0], d_range[1], n_plots)\n",
    "        \n",
    "    w = pd.DataFrame()\n",
    "    for d in d_values:\n",
    "        w_ = get_fixed_weights(d, size)\n",
    "        w_ = pd.DataFrame(w_, index=range(w_.shape[0])[::-1], columns=[d])\n",
    "        w = w.join(w_, how='outer')\n",
    "        \n",
    "    ax = w.plot()\n",
    "    ax.legend(loc='upper left')\n",
    "    ax.set_xlabel('K = Number of Observations')\n",
    "    ax.set_ylabel('W = Weights')\n",
    "    plt.show()"
   ]
  },
  {
   "cell_type": "code",
   "execution_count": null,
   "id": "b46f739f",
   "metadata": {},
   "outputs": [],
   "source": [
    "plot_weights(d_range=[0, 1], n_plots=5, size=6)"
   ]
  },
  {
   "cell_type": "code",
   "execution_count": null,
   "id": "b04624e2",
   "metadata": {},
   "outputs": [],
   "source": [
    "plot_weights(d_range=[1, 2], n_plots=5, size=6)"
   ]
  },
  {
   "cell_type": "code",
   "execution_count": null,
   "id": "1ba73c8c",
   "metadata": {},
   "outputs": [],
   "source": [
    "plot_weights(d_range=[4, 5], n_plots=5, size=8)"
   ]
  },
  {
   "cell_type": "markdown",
   "id": "7fa66dd6",
   "metadata": {},
   "source": [
    "# Apply Weights to Time Series"
   ]
  },
  {
   "cell_type": "code",
   "execution_count": null,
   "id": "53823a4f",
   "metadata": {},
   "outputs": [],
   "source": [
    "def frac_diff(data: pd.DataFrame, d: float, thres=1e-3) -> Tuple[pd.DataFrame, np.ndarray]:\n",
    "    # Constant width window\n",
    "    w = get_weights(d, thres)\n",
    "    width = len(w) - 1\n",
    "    \n",
    "    df = {}\n",
    "    for name in data.columns:\n",
    "        column_data = data[[name]].fillna(method='ffill').dropna()\n",
    "        differentiated_column_data = pd.Series(dtype=np.float32)\n",
    "        for end_iloc in range(width, column_data.shape[0]):\n",
    "            start_loc = column_data.index[end_iloc - width]\n",
    "            end_loc = column_data.index[end_iloc]\n",
    "            if not np.isfinite(data.loc[end_loc, name]):\n",
    "                # Exclude NaNs\n",
    "                continue\n",
    "            differentiated_column_data[end_loc] = np.dot(w.T, column_data.loc[start_loc:end_loc]).item()\n",
    "        df[name] = differentiated_column_data.copy(deep=True)\n",
    "    df = pd.concat(df, axis=1)\n",
    "    \n",
    "    return df, w\n",
    "\n",
    "\n",
    "def frac_diff_fixed(data: pd.DataFrame, d: float, size: int) -> Tuple[pd.DataFrame, np.ndarray]:\n",
    "    # Constant width window\n",
    "    w = get_fixed_weights(d, size)\n",
    "    width = len(w) - 1\n",
    "    \n",
    "    df = {}\n",
    "    for name in data.columns:\n",
    "        column_data = data[[name]].fillna(method='ffill').dropna()\n",
    "        differentiated_column_data = pd.Series(dtype=np.float32)\n",
    "        for end_iloc in range(width, column_data.shape[0]):\n",
    "            start_loc = column_data.index[end_iloc - width]\n",
    "            end_loc = column_data.index[end_iloc]\n",
    "            if not np.isfinite(data.loc[end_loc, name]):\n",
    "                # Exclude NaNs\n",
    "                continue\n",
    "            differentiated_column_data[end_loc] = np.dot(w.T, column_data.loc[start_loc:end_loc]).item()\n",
    "        df[name] = differentiated_column_data.copy(deep=True)\n",
    "    df = pd.concat(df, axis=1)\n",
    "    \n",
    "    return df, w\n",
    "\n",
    "\n",
    "def search_parameters(data: pd.DataFrame) -> pd.DataFrame:\n",
    "    parameters = pd.DataFrame(columns=['ADF value', 'p value', 'lags', 'nObs', '95% conf', 'corr'])\n",
    "    for d in np.linspace(0, 1, 11):\n",
    "        df1 = data[['Close']].resample('1D').last()\n",
    "        df2, _ = frac_diff_fixed(df1, d, size=5)\n",
    "        corr = np.corrcoef(df1.loc[df2.index, 'Close'], df2['Close'])[0, 1]\n",
    "        df2 = adfuller(df2['Close'], maxlag=1, regression='c', autolag=None)\n",
    "        \n",
    "        parameters.loc[d] = list(df2[:4]) + [df2[4]['5%']] + [corr]\n",
    "    \n",
    "    ax = parameters[['ADF value', 'corr']].plot(secondary_y='ADF value')\n",
    "    ax.set_xlabel('d value')\n",
    "    ax.set_ylabel('correlation')\n",
    "    plt.axhline(parameters['95% conf'].mean(), linewidth=1, color='r', linestyle='dotted')\n",
    "    \n",
    "    d_value = find_d_value(parameters)\n",
    "    if d_value is not None:\n",
    "        plt.axvline(d_value, linewidth=1, color='g', linestyle='dotted')\n",
    "    \n",
    "    return parameters, d_value\n",
    "\n",
    "\n",
    "def find_d_value(parameters: pd.DataFrame) -> float:\n",
    "    conf_95 = parameters['95% conf'].mean()\n",
    "    for d_value, row in parameters.iterrows():\n",
    "        if row['ADF value'] <= conf_95:\n",
    "            return d_value\n",
    "        \n",
    "    return None"
   ]
  },
  {
   "cell_type": "code",
   "execution_count": null,
   "id": "9cf49880",
   "metadata": {},
   "outputs": [],
   "source": [
    "data_frac_diff = data.copy()"
   ]
  },
  {
   "cell_type": "code",
   "execution_count": null,
   "id": "ae6a068b",
   "metadata": {},
   "outputs": [],
   "source": [
    "parameters, d_value = search_parameters(data_frac_diff)\n",
    "print('\\nPossible parameters')\n",
    "print(parameters.head())\n",
    "print(f'd_value: {d_value}')"
   ]
  },
  {
   "cell_type": "code",
   "execution_count": null,
   "id": "1bc96553",
   "metadata": {},
   "outputs": [],
   "source": [
    "data_frac_diff, w_frac_diff = frac_diff(data_frac_diff, d_value)\n",
    "# If d_value = 0.5 it is considered the classic integer differentiation method.\n",
    "data_integer_diff, w_interger_diff = frac_diff(data_frac_diff, 1)"
   ]
  },
  {
   "cell_type": "code",
   "execution_count": null,
   "id": "95ef41ad",
   "metadata": {},
   "outputs": [],
   "source": [
    "plot_weights(d_range=[d_value], n_plots=1, size=len(w_frac_diff))\n",
    "print(w_frac_diff[:10])"
   ]
  },
  {
   "cell_type": "code",
   "execution_count": null,
   "id": "ac9c1b30",
   "metadata": {},
   "outputs": [],
   "source": [
    "plot_weights(d_range=[1], n_plots=1, size=len(w_interger_diff))"
   ]
  },
  {
   "cell_type": "markdown",
   "id": "21fe992d",
   "metadata": {},
   "source": [
    "### Let's See How the Prices & Volume Are Looking"
   ]
  },
  {
   "cell_type": "code",
   "execution_count": null,
   "id": "ef5b9df1",
   "metadata": {},
   "outputs": [],
   "source": [
    "data[['Open', 'High', 'Low', 'Close']].plot()"
   ]
  },
  {
   "cell_type": "code",
   "execution_count": null,
   "id": "b28eff17",
   "metadata": {},
   "outputs": [],
   "source": [
    "data_integer_diff[['Open', 'High', 'Low', 'Close']].plot()"
   ]
  },
  {
   "cell_type": "markdown",
   "id": "498ae08c",
   "metadata": {},
   "source": [
    "We can see that the classic method of integer differentiation is almost flat & very sensitive to outliers."
   ]
  },
  {
   "cell_type": "code",
   "execution_count": null,
   "id": "6ca11ee3",
   "metadata": {},
   "outputs": [],
   "source": [
    "data_frac_diff[['Open', 'High', 'Low', 'Close']].plot()"
   ]
  },
  {
   "cell_type": "markdown",
   "id": "789910fe",
   "metadata": {},
   "source": [
    "We can definetly see that the mean & variance is almost the same for any random slice of the time series. "
   ]
  },
  {
   "cell_type": "code",
   "execution_count": null,
   "id": "681bd092",
   "metadata": {},
   "outputs": [],
   "source": [
    "data[['Volume']].plot()"
   ]
  },
  {
   "cell_type": "code",
   "execution_count": null,
   "id": "6aa48e5b",
   "metadata": {},
   "outputs": [],
   "source": [
    "data_integer_diff[['Volume']].plot()"
   ]
  },
  {
   "cell_type": "code",
   "execution_count": null,
   "id": "712c1e18",
   "metadata": {},
   "outputs": [],
   "source": [
    "data_frac_diff[['Volume']].plot()"
   ]
  },
  {
   "cell_type": "markdown",
   "id": "27917e07",
   "metadata": {},
   "source": [
    "### Let's See How the Technical Indicators Are Looking"
   ]
  },
  {
   "cell_type": "code",
   "execution_count": null,
   "id": "ca0321ac",
   "metadata": {},
   "outputs": [],
   "source": [
    "data['macd'].plot()"
   ]
  },
  {
   "cell_type": "code",
   "execution_count": null,
   "id": "0e44aa82",
   "metadata": {},
   "outputs": [],
   "source": [
    "data_integer_diff['macd'].plot()"
   ]
  },
  {
   "cell_type": "code",
   "execution_count": null,
   "id": "8b49372b",
   "metadata": {},
   "outputs": [],
   "source": [
    "data_frac_diff['macd'].plot()"
   ]
  },
  {
   "cell_type": "code",
   "execution_count": null,
   "id": "4bcdd828",
   "metadata": {},
   "outputs": [],
   "source": [
    "data['rsi_30'].plot()"
   ]
  },
  {
   "cell_type": "code",
   "execution_count": null,
   "id": "77e0cbfd",
   "metadata": {},
   "outputs": [],
   "source": [
    "data_integer_diff['rsi_30'].plot()"
   ]
  },
  {
   "cell_type": "code",
   "execution_count": null,
   "id": "fc40e834",
   "metadata": {},
   "outputs": [],
   "source": [
    "data_frac_diff['rsi_30'].plot()"
   ]
  }
 ],
 "metadata": {
  "kernelspec": {
   "display_name": "Python 3 (ipykernel)",
   "language": "python",
   "name": "python3"
  },
  "language_info": {
   "codemirror_mode": {
    "name": "ipython",
    "version": 3
   },
   "file_extension": ".py",
   "mimetype": "text/x-python",
   "name": "python",
   "nbconvert_exporter": "python",
   "pygments_lexer": "ipython3",
   "version": "3.8.10"
  }
 },
 "nbformat": 4,
 "nbformat_minor": 5
}
