{
 "cells": [
  {
   "cell_type": "code",
   "execution_count": 1,
   "id": "1e68682f",
   "metadata": {},
   "outputs": [],
   "source": [
    "import yfinance\n",
    "import mplfinance as mpf\n",
    "import matplotlib. pyplot as plt\n",
    "import numpy as np"
   ]
  },
  {
   "cell_type": "markdown",
   "id": "20237660",
   "metadata": {},
   "source": [
    "# Define Constants"
   ]
  },
  {
   "cell_type": "code",
   "execution_count": 2,
   "id": "721b2172",
   "metadata": {},
   "outputs": [],
   "source": [
    "TICKERS = ['PLUG']\n",
    "START = '2019-01-01'\n",
    "END = None\n",
    "INTERVAL = '1d'"
   ]
  },
  {
   "cell_type": "markdown",
   "id": "a175ecd4",
   "metadata": {},
   "source": [
    "# Live Data Availability"
   ]
  },
  {
   "cell_type": "code",
   "execution_count": 3,
   "id": "84ce3ed2",
   "metadata": {},
   "outputs": [
    {
     "name": "stdout",
     "output_type": "stream",
     "text": [
      "[*********************100%***********************]  1 of 1 completed\n"
     ]
    }
   ],
   "source": [
    "data = yfinance.download(\n",
    "            tickers=TICKERS,\n",
    "            start=START,\n",
    "            end=END,\n",
    "            interval=INTERVAL,\n",
    "            auto_adjust=False,\n",
    "            prepost=False\n",
    "        )"
   ]
  },
  {
   "cell_type": "code",
   "execution_count": 4,
   "id": "05ce5fa5",
   "metadata": {},
   "outputs": [
    {
     "data": {
      "text/html": [
       "<div>\n",
       "<style scoped>\n",
       "    .dataframe tbody tr th:only-of-type {\n",
       "        vertical-align: middle;\n",
       "    }\n",
       "\n",
       "    .dataframe tbody tr th {\n",
       "        vertical-align: top;\n",
       "    }\n",
       "\n",
       "    .dataframe thead th {\n",
       "        text-align: right;\n",
       "    }\n",
       "</style>\n",
       "<table border=\"1\" class=\"dataframe\">\n",
       "  <thead>\n",
       "    <tr style=\"text-align: right;\">\n",
       "      <th></th>\n",
       "      <th>Open</th>\n",
       "      <th>High</th>\n",
       "      <th>Low</th>\n",
       "      <th>Close</th>\n",
       "      <th>Adj Close</th>\n",
       "      <th>Volume</th>\n",
       "    </tr>\n",
       "    <tr>\n",
       "      <th>Date</th>\n",
       "      <th></th>\n",
       "      <th></th>\n",
       "      <th></th>\n",
       "      <th></th>\n",
       "      <th></th>\n",
       "      <th></th>\n",
       "    </tr>\n",
       "  </thead>\n",
       "  <tbody>\n",
       "    <tr>\n",
       "      <th>2021-12-01</th>\n",
       "      <td>40.290001</td>\n",
       "      <td>40.849998</td>\n",
       "      <td>36.340000</td>\n",
       "      <td>36.709999</td>\n",
       "      <td>36.709999</td>\n",
       "      <td>20093900</td>\n",
       "    </tr>\n",
       "    <tr>\n",
       "      <th>2021-12-02</th>\n",
       "      <td>35.639999</td>\n",
       "      <td>37.630001</td>\n",
       "      <td>35.310001</td>\n",
       "      <td>36.419998</td>\n",
       "      <td>36.419998</td>\n",
       "      <td>20116000</td>\n",
       "    </tr>\n",
       "    <tr>\n",
       "      <th>2021-12-03</th>\n",
       "      <td>36.419998</td>\n",
       "      <td>36.700001</td>\n",
       "      <td>32.419998</td>\n",
       "      <td>33.459999</td>\n",
       "      <td>33.459999</td>\n",
       "      <td>29169500</td>\n",
       "    </tr>\n",
       "    <tr>\n",
       "      <th>2021-12-06</th>\n",
       "      <td>32.480000</td>\n",
       "      <td>34.970001</td>\n",
       "      <td>31.400000</td>\n",
       "      <td>34.049999</td>\n",
       "      <td>34.049999</td>\n",
       "      <td>19617200</td>\n",
       "    </tr>\n",
       "    <tr>\n",
       "      <th>2021-12-07</th>\n",
       "      <td>35.634998</td>\n",
       "      <td>36.740002</td>\n",
       "      <td>35.439999</td>\n",
       "      <td>36.320000</td>\n",
       "      <td>36.320000</td>\n",
       "      <td>11764661</td>\n",
       "    </tr>\n",
       "  </tbody>\n",
       "</table>\n",
       "</div>"
      ],
      "text/plain": [
       "                 Open       High        Low      Close  Adj Close    Volume\n",
       "Date                                                                       \n",
       "2021-12-01  40.290001  40.849998  36.340000  36.709999  36.709999  20093900\n",
       "2021-12-02  35.639999  37.630001  35.310001  36.419998  36.419998  20116000\n",
       "2021-12-03  36.419998  36.700001  32.419998  33.459999  33.459999  29169500\n",
       "2021-12-06  32.480000  34.970001  31.400000  34.049999  34.049999  19617200\n",
       "2021-12-07  35.634998  36.740002  35.439999  36.320000  36.320000  11764661"
      ]
     },
     "execution_count": 4,
     "metadata": {},
     "output_type": "execute_result"
    }
   ],
   "source": [
    "data.tail()"
   ]
  },
  {
   "cell_type": "markdown",
   "id": "ea5ca89a",
   "metadata": {},
   "source": [
    "We can see that we have data even during the current date."
   ]
  },
  {
   "cell_type": "markdown",
   "id": "a193aa1d",
   "metadata": {},
   "source": [
    "# Download Data"
   ]
  },
  {
   "cell_type": "code",
   "execution_count": 5,
   "id": "61c2df89",
   "metadata": {},
   "outputs": [
    {
     "name": "stdout",
     "output_type": "stream",
     "text": [
      "[*********************100%***********************]  1 of 1 completed\n"
     ]
    }
   ],
   "source": [
    "tickers_data_unadjusted = yfinance.download(\n",
    "            tickers=TICKERS,\n",
    "            start=START,\n",
    "            end=END,\n",
    "            interval=INTERVAL,\n",
    "            auto_adjust=False,\n",
    "            prepost=False\n",
    "        )"
   ]
  },
  {
   "cell_type": "code",
   "execution_count": 6,
   "id": "f288b181",
   "metadata": {},
   "outputs": [
    {
     "data": {
      "text/html": [
       "<div>\n",
       "<style scoped>\n",
       "    .dataframe tbody tr th:only-of-type {\n",
       "        vertical-align: middle;\n",
       "    }\n",
       "\n",
       "    .dataframe tbody tr th {\n",
       "        vertical-align: top;\n",
       "    }\n",
       "\n",
       "    .dataframe thead th {\n",
       "        text-align: right;\n",
       "    }\n",
       "</style>\n",
       "<table border=\"1\" class=\"dataframe\">\n",
       "  <thead>\n",
       "    <tr style=\"text-align: right;\">\n",
       "      <th></th>\n",
       "      <th>Open</th>\n",
       "      <th>High</th>\n",
       "      <th>Low</th>\n",
       "      <th>Close</th>\n",
       "      <th>Adj Close</th>\n",
       "      <th>Volume</th>\n",
       "    </tr>\n",
       "    <tr>\n",
       "      <th>Date</th>\n",
       "      <th></th>\n",
       "      <th></th>\n",
       "      <th></th>\n",
       "      <th></th>\n",
       "      <th></th>\n",
       "      <th></th>\n",
       "    </tr>\n",
       "  </thead>\n",
       "  <tbody>\n",
       "    <tr>\n",
       "      <th>2018-12-31</th>\n",
       "      <td>1.36</td>\n",
       "      <td>1.36</td>\n",
       "      <td>1.23</td>\n",
       "      <td>1.24</td>\n",
       "      <td>1.24</td>\n",
       "      <td>3750200</td>\n",
       "    </tr>\n",
       "    <tr>\n",
       "      <th>2019-01-02</th>\n",
       "      <td>1.24</td>\n",
       "      <td>1.35</td>\n",
       "      <td>1.23</td>\n",
       "      <td>1.33</td>\n",
       "      <td>1.33</td>\n",
       "      <td>3389200</td>\n",
       "    </tr>\n",
       "    <tr>\n",
       "      <th>2019-01-03</th>\n",
       "      <td>1.33</td>\n",
       "      <td>1.33</td>\n",
       "      <td>1.24</td>\n",
       "      <td>1.26</td>\n",
       "      <td>1.26</td>\n",
       "      <td>3638000</td>\n",
       "    </tr>\n",
       "    <tr>\n",
       "      <th>2019-01-04</th>\n",
       "      <td>1.30</td>\n",
       "      <td>1.35</td>\n",
       "      <td>1.26</td>\n",
       "      <td>1.34</td>\n",
       "      <td>1.34</td>\n",
       "      <td>4863800</td>\n",
       "    </tr>\n",
       "    <tr>\n",
       "      <th>2019-01-07</th>\n",
       "      <td>1.38</td>\n",
       "      <td>1.59</td>\n",
       "      <td>1.38</td>\n",
       "      <td>1.53</td>\n",
       "      <td>1.53</td>\n",
       "      <td>7525700</td>\n",
       "    </tr>\n",
       "  </tbody>\n",
       "</table>\n",
       "</div>"
      ],
      "text/plain": [
       "            Open  High   Low  Close  Adj Close   Volume\n",
       "Date                                                   \n",
       "2018-12-31  1.36  1.36  1.23   1.24       1.24  3750200\n",
       "2019-01-02  1.24  1.35  1.23   1.33       1.33  3389200\n",
       "2019-01-03  1.33  1.33  1.24   1.26       1.26  3638000\n",
       "2019-01-04  1.30  1.35  1.26   1.34       1.34  4863800\n",
       "2019-01-07  1.38  1.59  1.38   1.53       1.53  7525700"
      ]
     },
     "execution_count": 6,
     "metadata": {},
     "output_type": "execute_result"
    }
   ],
   "source": [
    "tickers_data_unadjusted.head()"
   ]
  },
  {
   "cell_type": "code",
   "execution_count": 7,
   "id": "13adb573",
   "metadata": {},
   "outputs": [
    {
     "name": "stdout",
     "output_type": "stream",
     "text": [
      "[*********************100%***********************]  1 of 1 completed\n"
     ]
    }
   ],
   "source": [
    "tickers_data = yfinance.download(\n",
    "            tickers=TICKERS,\n",
    "            start=START,\n",
    "            end=END,\n",
    "            interval=INTERVAL,\n",
    "            auto_adjust=True,\n",
    "            prepost=False\n",
    "        )"
   ]
  },
  {
   "cell_type": "code",
   "execution_count": 8,
   "id": "795c1e4c",
   "metadata": {},
   "outputs": [
    {
     "name": "stdout",
     "output_type": "stream",
     "text": [
      "741\n"
     ]
    },
    {
     "data": {
      "text/html": [
       "<div>\n",
       "<style scoped>\n",
       "    .dataframe tbody tr th:only-of-type {\n",
       "        vertical-align: middle;\n",
       "    }\n",
       "\n",
       "    .dataframe tbody tr th {\n",
       "        vertical-align: top;\n",
       "    }\n",
       "\n",
       "    .dataframe thead th {\n",
       "        text-align: right;\n",
       "    }\n",
       "</style>\n",
       "<table border=\"1\" class=\"dataframe\">\n",
       "  <thead>\n",
       "    <tr style=\"text-align: right;\">\n",
       "      <th></th>\n",
       "      <th>Open</th>\n",
       "      <th>High</th>\n",
       "      <th>Low</th>\n",
       "      <th>Close</th>\n",
       "      <th>Volume</th>\n",
       "    </tr>\n",
       "    <tr>\n",
       "      <th>Date</th>\n",
       "      <th></th>\n",
       "      <th></th>\n",
       "      <th></th>\n",
       "      <th></th>\n",
       "      <th></th>\n",
       "    </tr>\n",
       "  </thead>\n",
       "  <tbody>\n",
       "    <tr>\n",
       "      <th>2018-12-31</th>\n",
       "      <td>1.36</td>\n",
       "      <td>1.36</td>\n",
       "      <td>1.23</td>\n",
       "      <td>1.24</td>\n",
       "      <td>3750200</td>\n",
       "    </tr>\n",
       "    <tr>\n",
       "      <th>2019-01-02</th>\n",
       "      <td>1.24</td>\n",
       "      <td>1.35</td>\n",
       "      <td>1.23</td>\n",
       "      <td>1.33</td>\n",
       "      <td>3389200</td>\n",
       "    </tr>\n",
       "    <tr>\n",
       "      <th>2019-01-03</th>\n",
       "      <td>1.33</td>\n",
       "      <td>1.33</td>\n",
       "      <td>1.24</td>\n",
       "      <td>1.26</td>\n",
       "      <td>3638000</td>\n",
       "    </tr>\n",
       "    <tr>\n",
       "      <th>2019-01-04</th>\n",
       "      <td>1.30</td>\n",
       "      <td>1.35</td>\n",
       "      <td>1.26</td>\n",
       "      <td>1.34</td>\n",
       "      <td>4863800</td>\n",
       "    </tr>\n",
       "    <tr>\n",
       "      <th>2019-01-07</th>\n",
       "      <td>1.38</td>\n",
       "      <td>1.59</td>\n",
       "      <td>1.38</td>\n",
       "      <td>1.53</td>\n",
       "      <td>7525700</td>\n",
       "    </tr>\n",
       "  </tbody>\n",
       "</table>\n",
       "</div>"
      ],
      "text/plain": [
       "            Open  High   Low  Close   Volume\n",
       "Date                                        \n",
       "2018-12-31  1.36  1.36  1.23   1.24  3750200\n",
       "2019-01-02  1.24  1.35  1.23   1.33  3389200\n",
       "2019-01-03  1.33  1.33  1.24   1.26  3638000\n",
       "2019-01-04  1.30  1.35  1.26   1.34  4863800\n",
       "2019-01-07  1.38  1.59  1.38   1.53  7525700"
      ]
     },
     "execution_count": 8,
     "metadata": {},
     "output_type": "execute_result"
    }
   ],
   "source": [
    "print(len(tickers_data))\n",
    "tickers_data.head()"
   ]
  },
  {
   "cell_type": "code",
   "execution_count": 9,
   "id": "08f9b60d",
   "metadata": {},
   "outputs": [
    {
     "name": "stdout",
     "output_type": "stream",
     "text": [
      "[*********************100%***********************]  1 of 1 completed\n"
     ]
    }
   ],
   "source": [
    "tickers_data_with_actions = yfinance.download(\n",
    "            tickers=TICKERS,\n",
    "            start=START,\n",
    "            end=END,\n",
    "            interval=INTERVAL,\n",
    "            auto_adjust=True,\n",
    "            prepost=False,\n",
    "            actions=True\n",
    "        )"
   ]
  },
  {
   "cell_type": "code",
   "execution_count": 10,
   "id": "f6c1a40d",
   "metadata": {},
   "outputs": [
    {
     "name": "stdout",
     "output_type": "stream",
     "text": [
      "741\n"
     ]
    },
    {
     "data": {
      "text/html": [
       "<div>\n",
       "<style scoped>\n",
       "    .dataframe tbody tr th:only-of-type {\n",
       "        vertical-align: middle;\n",
       "    }\n",
       "\n",
       "    .dataframe tbody tr th {\n",
       "        vertical-align: top;\n",
       "    }\n",
       "\n",
       "    .dataframe thead th {\n",
       "        text-align: right;\n",
       "    }\n",
       "</style>\n",
       "<table border=\"1\" class=\"dataframe\">\n",
       "  <thead>\n",
       "    <tr style=\"text-align: right;\">\n",
       "      <th></th>\n",
       "      <th>Open</th>\n",
       "      <th>High</th>\n",
       "      <th>Low</th>\n",
       "      <th>Close</th>\n",
       "      <th>Volume</th>\n",
       "    </tr>\n",
       "    <tr>\n",
       "      <th>Date</th>\n",
       "      <th></th>\n",
       "      <th></th>\n",
       "      <th></th>\n",
       "      <th></th>\n",
       "      <th></th>\n",
       "    </tr>\n",
       "  </thead>\n",
       "  <tbody>\n",
       "    <tr>\n",
       "      <th>2018-12-31</th>\n",
       "      <td>1.36</td>\n",
       "      <td>1.36</td>\n",
       "      <td>1.23</td>\n",
       "      <td>1.24</td>\n",
       "      <td>3750200</td>\n",
       "    </tr>\n",
       "    <tr>\n",
       "      <th>2019-01-02</th>\n",
       "      <td>1.24</td>\n",
       "      <td>1.35</td>\n",
       "      <td>1.23</td>\n",
       "      <td>1.33</td>\n",
       "      <td>3389200</td>\n",
       "    </tr>\n",
       "    <tr>\n",
       "      <th>2019-01-03</th>\n",
       "      <td>1.33</td>\n",
       "      <td>1.33</td>\n",
       "      <td>1.24</td>\n",
       "      <td>1.26</td>\n",
       "      <td>3638000</td>\n",
       "    </tr>\n",
       "    <tr>\n",
       "      <th>2019-01-04</th>\n",
       "      <td>1.30</td>\n",
       "      <td>1.35</td>\n",
       "      <td>1.26</td>\n",
       "      <td>1.34</td>\n",
       "      <td>4863800</td>\n",
       "    </tr>\n",
       "    <tr>\n",
       "      <th>2019-01-07</th>\n",
       "      <td>1.38</td>\n",
       "      <td>1.59</td>\n",
       "      <td>1.38</td>\n",
       "      <td>1.53</td>\n",
       "      <td>7525700</td>\n",
       "    </tr>\n",
       "    <tr>\n",
       "      <th>2019-01-08</th>\n",
       "      <td>1.60</td>\n",
       "      <td>1.70</td>\n",
       "      <td>1.59</td>\n",
       "      <td>1.60</td>\n",
       "      <td>8715600</td>\n",
       "    </tr>\n",
       "    <tr>\n",
       "      <th>2019-01-09</th>\n",
       "      <td>1.65</td>\n",
       "      <td>1.65</td>\n",
       "      <td>1.40</td>\n",
       "      <td>1.51</td>\n",
       "      <td>7496200</td>\n",
       "    </tr>\n",
       "    <tr>\n",
       "      <th>2019-01-10</th>\n",
       "      <td>1.50</td>\n",
       "      <td>1.50</td>\n",
       "      <td>1.42</td>\n",
       "      <td>1.45</td>\n",
       "      <td>2724900</td>\n",
       "    </tr>\n",
       "    <tr>\n",
       "      <th>2019-01-11</th>\n",
       "      <td>1.45</td>\n",
       "      <td>1.49</td>\n",
       "      <td>1.36</td>\n",
       "      <td>1.48</td>\n",
       "      <td>4353600</td>\n",
       "    </tr>\n",
       "    <tr>\n",
       "      <th>2019-01-14</th>\n",
       "      <td>1.47</td>\n",
       "      <td>1.47</td>\n",
       "      <td>1.41</td>\n",
       "      <td>1.45</td>\n",
       "      <td>2000200</td>\n",
       "    </tr>\n",
       "    <tr>\n",
       "      <th>2019-01-15</th>\n",
       "      <td>1.44</td>\n",
       "      <td>1.45</td>\n",
       "      <td>1.34</td>\n",
       "      <td>1.39</td>\n",
       "      <td>3491100</td>\n",
       "    </tr>\n",
       "    <tr>\n",
       "      <th>2019-01-16</th>\n",
       "      <td>1.39</td>\n",
       "      <td>1.44</td>\n",
       "      <td>1.37</td>\n",
       "      <td>1.39</td>\n",
       "      <td>1586900</td>\n",
       "    </tr>\n",
       "    <tr>\n",
       "      <th>2019-01-17</th>\n",
       "      <td>1.40</td>\n",
       "      <td>1.43</td>\n",
       "      <td>1.37</td>\n",
       "      <td>1.40</td>\n",
       "      <td>2165900</td>\n",
       "    </tr>\n",
       "    <tr>\n",
       "      <th>2019-01-18</th>\n",
       "      <td>1.41</td>\n",
       "      <td>1.43</td>\n",
       "      <td>1.36</td>\n",
       "      <td>1.38</td>\n",
       "      <td>2313600</td>\n",
       "    </tr>\n",
       "    <tr>\n",
       "      <th>2019-01-22</th>\n",
       "      <td>1.40</td>\n",
       "      <td>1.40</td>\n",
       "      <td>1.31</td>\n",
       "      <td>1.33</td>\n",
       "      <td>2180300</td>\n",
       "    </tr>\n",
       "    <tr>\n",
       "      <th>2019-01-23</th>\n",
       "      <td>1.34</td>\n",
       "      <td>1.39</td>\n",
       "      <td>1.31</td>\n",
       "      <td>1.36</td>\n",
       "      <td>2144600</td>\n",
       "    </tr>\n",
       "    <tr>\n",
       "      <th>2019-01-24</th>\n",
       "      <td>1.37</td>\n",
       "      <td>1.39</td>\n",
       "      <td>1.35</td>\n",
       "      <td>1.37</td>\n",
       "      <td>1227200</td>\n",
       "    </tr>\n",
       "    <tr>\n",
       "      <th>2019-01-25</th>\n",
       "      <td>1.38</td>\n",
       "      <td>1.40</td>\n",
       "      <td>1.34</td>\n",
       "      <td>1.36</td>\n",
       "      <td>1901000</td>\n",
       "    </tr>\n",
       "    <tr>\n",
       "      <th>2019-01-28</th>\n",
       "      <td>1.36</td>\n",
       "      <td>1.37</td>\n",
       "      <td>1.33</td>\n",
       "      <td>1.37</td>\n",
       "      <td>1769300</td>\n",
       "    </tr>\n",
       "    <tr>\n",
       "      <th>2019-01-29</th>\n",
       "      <td>1.38</td>\n",
       "      <td>1.42</td>\n",
       "      <td>1.38</td>\n",
       "      <td>1.40</td>\n",
       "      <td>1793100</td>\n",
       "    </tr>\n",
       "    <tr>\n",
       "      <th>2019-01-30</th>\n",
       "      <td>1.42</td>\n",
       "      <td>1.42</td>\n",
       "      <td>1.37</td>\n",
       "      <td>1.39</td>\n",
       "      <td>1789100</td>\n",
       "    </tr>\n",
       "    <tr>\n",
       "      <th>2019-01-31</th>\n",
       "      <td>1.39</td>\n",
       "      <td>1.42</td>\n",
       "      <td>1.37</td>\n",
       "      <td>1.37</td>\n",
       "      <td>2394600</td>\n",
       "    </tr>\n",
       "    <tr>\n",
       "      <th>2019-02-01</th>\n",
       "      <td>1.38</td>\n",
       "      <td>1.40</td>\n",
       "      <td>1.33</td>\n",
       "      <td>1.34</td>\n",
       "      <td>2640600</td>\n",
       "    </tr>\n",
       "    <tr>\n",
       "      <th>2019-02-04</th>\n",
       "      <td>1.36</td>\n",
       "      <td>1.39</td>\n",
       "      <td>1.35</td>\n",
       "      <td>1.38</td>\n",
       "      <td>2114300</td>\n",
       "    </tr>\n",
       "    <tr>\n",
       "      <th>2019-02-05</th>\n",
       "      <td>1.39</td>\n",
       "      <td>1.39</td>\n",
       "      <td>1.37</td>\n",
       "      <td>1.38</td>\n",
       "      <td>1262000</td>\n",
       "    </tr>\n",
       "    <tr>\n",
       "      <th>2019-02-06</th>\n",
       "      <td>1.39</td>\n",
       "      <td>1.40</td>\n",
       "      <td>1.35</td>\n",
       "      <td>1.36</td>\n",
       "      <td>1578900</td>\n",
       "    </tr>\n",
       "    <tr>\n",
       "      <th>2019-02-07</th>\n",
       "      <td>1.36</td>\n",
       "      <td>1.37</td>\n",
       "      <td>1.34</td>\n",
       "      <td>1.34</td>\n",
       "      <td>1207500</td>\n",
       "    </tr>\n",
       "    <tr>\n",
       "      <th>2019-02-08</th>\n",
       "      <td>1.34</td>\n",
       "      <td>1.35</td>\n",
       "      <td>1.32</td>\n",
       "      <td>1.34</td>\n",
       "      <td>1276400</td>\n",
       "    </tr>\n",
       "    <tr>\n",
       "      <th>2019-02-11</th>\n",
       "      <td>1.35</td>\n",
       "      <td>1.37</td>\n",
       "      <td>1.33</td>\n",
       "      <td>1.36</td>\n",
       "      <td>1375300</td>\n",
       "    </tr>\n",
       "    <tr>\n",
       "      <th>2019-02-12</th>\n",
       "      <td>1.37</td>\n",
       "      <td>1.38</td>\n",
       "      <td>1.35</td>\n",
       "      <td>1.37</td>\n",
       "      <td>960600</td>\n",
       "    </tr>\n",
       "    <tr>\n",
       "      <th>2019-02-13</th>\n",
       "      <td>1.37</td>\n",
       "      <td>1.41</td>\n",
       "      <td>1.35</td>\n",
       "      <td>1.40</td>\n",
       "      <td>2173100</td>\n",
       "    </tr>\n",
       "    <tr>\n",
       "      <th>2019-02-14</th>\n",
       "      <td>1.40</td>\n",
       "      <td>1.69</td>\n",
       "      <td>1.39</td>\n",
       "      <td>1.67</td>\n",
       "      <td>9410000</td>\n",
       "    </tr>\n",
       "    <tr>\n",
       "      <th>2019-02-15</th>\n",
       "      <td>1.65</td>\n",
       "      <td>1.67</td>\n",
       "      <td>1.50</td>\n",
       "      <td>1.62</td>\n",
       "      <td>5255300</td>\n",
       "    </tr>\n",
       "    <tr>\n",
       "      <th>2019-02-19</th>\n",
       "      <td>1.65</td>\n",
       "      <td>1.75</td>\n",
       "      <td>1.64</td>\n",
       "      <td>1.69</td>\n",
       "      <td>3638700</td>\n",
       "    </tr>\n",
       "    <tr>\n",
       "      <th>2019-02-20</th>\n",
       "      <td>1.74</td>\n",
       "      <td>1.80</td>\n",
       "      <td>1.73</td>\n",
       "      <td>1.78</td>\n",
       "      <td>5853200</td>\n",
       "    </tr>\n",
       "    <tr>\n",
       "      <th>2019-02-21</th>\n",
       "      <td>1.80</td>\n",
       "      <td>1.81</td>\n",
       "      <td>1.67</td>\n",
       "      <td>1.78</td>\n",
       "      <td>3369600</td>\n",
       "    </tr>\n",
       "    <tr>\n",
       "      <th>2019-02-22</th>\n",
       "      <td>1.80</td>\n",
       "      <td>1.80</td>\n",
       "      <td>1.73</td>\n",
       "      <td>1.80</td>\n",
       "      <td>2563400</td>\n",
       "    </tr>\n",
       "    <tr>\n",
       "      <th>2019-02-25</th>\n",
       "      <td>1.82</td>\n",
       "      <td>1.83</td>\n",
       "      <td>1.72</td>\n",
       "      <td>1.75</td>\n",
       "      <td>3225500</td>\n",
       "    </tr>\n",
       "    <tr>\n",
       "      <th>2019-02-26</th>\n",
       "      <td>1.79</td>\n",
       "      <td>1.79</td>\n",
       "      <td>1.68</td>\n",
       "      <td>1.77</td>\n",
       "      <td>3039600</td>\n",
       "    </tr>\n",
       "    <tr>\n",
       "      <th>2019-02-27</th>\n",
       "      <td>1.75</td>\n",
       "      <td>1.80</td>\n",
       "      <td>1.72</td>\n",
       "      <td>1.79</td>\n",
       "      <td>1872200</td>\n",
       "    </tr>\n",
       "  </tbody>\n",
       "</table>\n",
       "</div>"
      ],
      "text/plain": [
       "            Open  High   Low  Close   Volume\n",
       "Date                                        \n",
       "2018-12-31  1.36  1.36  1.23   1.24  3750200\n",
       "2019-01-02  1.24  1.35  1.23   1.33  3389200\n",
       "2019-01-03  1.33  1.33  1.24   1.26  3638000\n",
       "2019-01-04  1.30  1.35  1.26   1.34  4863800\n",
       "2019-01-07  1.38  1.59  1.38   1.53  7525700\n",
       "2019-01-08  1.60  1.70  1.59   1.60  8715600\n",
       "2019-01-09  1.65  1.65  1.40   1.51  7496200\n",
       "2019-01-10  1.50  1.50  1.42   1.45  2724900\n",
       "2019-01-11  1.45  1.49  1.36   1.48  4353600\n",
       "2019-01-14  1.47  1.47  1.41   1.45  2000200\n",
       "2019-01-15  1.44  1.45  1.34   1.39  3491100\n",
       "2019-01-16  1.39  1.44  1.37   1.39  1586900\n",
       "2019-01-17  1.40  1.43  1.37   1.40  2165900\n",
       "2019-01-18  1.41  1.43  1.36   1.38  2313600\n",
       "2019-01-22  1.40  1.40  1.31   1.33  2180300\n",
       "2019-01-23  1.34  1.39  1.31   1.36  2144600\n",
       "2019-01-24  1.37  1.39  1.35   1.37  1227200\n",
       "2019-01-25  1.38  1.40  1.34   1.36  1901000\n",
       "2019-01-28  1.36  1.37  1.33   1.37  1769300\n",
       "2019-01-29  1.38  1.42  1.38   1.40  1793100\n",
       "2019-01-30  1.42  1.42  1.37   1.39  1789100\n",
       "2019-01-31  1.39  1.42  1.37   1.37  2394600\n",
       "2019-02-01  1.38  1.40  1.33   1.34  2640600\n",
       "2019-02-04  1.36  1.39  1.35   1.38  2114300\n",
       "2019-02-05  1.39  1.39  1.37   1.38  1262000\n",
       "2019-02-06  1.39  1.40  1.35   1.36  1578900\n",
       "2019-02-07  1.36  1.37  1.34   1.34  1207500\n",
       "2019-02-08  1.34  1.35  1.32   1.34  1276400\n",
       "2019-02-11  1.35  1.37  1.33   1.36  1375300\n",
       "2019-02-12  1.37  1.38  1.35   1.37   960600\n",
       "2019-02-13  1.37  1.41  1.35   1.40  2173100\n",
       "2019-02-14  1.40  1.69  1.39   1.67  9410000\n",
       "2019-02-15  1.65  1.67  1.50   1.62  5255300\n",
       "2019-02-19  1.65  1.75  1.64   1.69  3638700\n",
       "2019-02-20  1.74  1.80  1.73   1.78  5853200\n",
       "2019-02-21  1.80  1.81  1.67   1.78  3369600\n",
       "2019-02-22  1.80  1.80  1.73   1.80  2563400\n",
       "2019-02-25  1.82  1.83  1.72   1.75  3225500\n",
       "2019-02-26  1.79  1.79  1.68   1.77  3039600\n",
       "2019-02-27  1.75  1.80  1.72   1.79  1872200"
      ]
     },
     "execution_count": 10,
     "metadata": {},
     "output_type": "execute_result"
    }
   ],
   "source": [
    "print(len(tickers_data_with_actions))\n",
    "tickers_data.head(n=40)"
   ]
  },
  {
   "cell_type": "markdown",
   "id": "e8b76e45",
   "metadata": {},
   "source": [
    "# Check Different Intervals"
   ]
  },
  {
   "cell_type": "code",
   "execution_count": 11,
   "id": "c86377a2",
   "metadata": {},
   "outputs": [
    {
     "name": "stdout",
     "output_type": "stream",
     "text": [
      "[*********************100%***********************]  1 of 1 completed\n",
      "\n",
      "1 Failed download:\n",
      "- PLUG: 1h data not available for startTime=1546293600 and endTime=1638899723. The requested range must be within the last 730 days.\n"
     ]
    },
    {
     "data": {
      "text/html": [
       "<div>\n",
       "<style scoped>\n",
       "    .dataframe tbody tr th:only-of-type {\n",
       "        vertical-align: middle;\n",
       "    }\n",
       "\n",
       "    .dataframe tbody tr th {\n",
       "        vertical-align: top;\n",
       "    }\n",
       "\n",
       "    .dataframe thead th {\n",
       "        text-align: right;\n",
       "    }\n",
       "</style>\n",
       "<table border=\"1\" class=\"dataframe\">\n",
       "  <thead>\n",
       "    <tr style=\"text-align: right;\">\n",
       "      <th></th>\n",
       "      <th>Open</th>\n",
       "      <th>High</th>\n",
       "      <th>Low</th>\n",
       "      <th>Close</th>\n",
       "      <th>Adj Close</th>\n",
       "      <th>Volume</th>\n",
       "    </tr>\n",
       "    <tr>\n",
       "      <th>Date</th>\n",
       "      <th></th>\n",
       "      <th></th>\n",
       "      <th></th>\n",
       "      <th></th>\n",
       "      <th></th>\n",
       "      <th></th>\n",
       "    </tr>\n",
       "  </thead>\n",
       "  <tbody>\n",
       "  </tbody>\n",
       "</table>\n",
       "</div>"
      ],
      "text/plain": [
       "Empty DataFrame\n",
       "Columns: [Open, High, Low, Close, Adj Close, Volume]\n",
       "Index: []"
      ]
     },
     "execution_count": 11,
     "metadata": {},
     "output_type": "execute_result"
    }
   ],
   "source": [
    "yfinance.download(\n",
    "            tickers=TICKERS,\n",
    "            start=START,\n",
    "            end=END,\n",
    "            interval='1h',\n",
    "            auto_adjust=True,\n",
    "            prepost=False,\n",
    "        )"
   ]
  },
  {
   "cell_type": "code",
   "execution_count": 12,
   "id": "497e2535",
   "metadata": {},
   "outputs": [
    {
     "name": "stdout",
     "output_type": "stream",
     "text": [
      "[*********************100%***********************]  1 of 1 completed\n",
      "\n",
      "1 Failed download:\n",
      "- PLUG: 1h data not available for startTime=1575669600 and endTime=1638828000. The requested range must be within the last 730 days.\n"
     ]
    },
    {
     "data": {
      "text/html": [
       "<div>\n",
       "<style scoped>\n",
       "    .dataframe tbody tr th:only-of-type {\n",
       "        vertical-align: middle;\n",
       "    }\n",
       "\n",
       "    .dataframe tbody tr th {\n",
       "        vertical-align: top;\n",
       "    }\n",
       "\n",
       "    .dataframe thead th {\n",
       "        text-align: right;\n",
       "    }\n",
       "</style>\n",
       "<table border=\"1\" class=\"dataframe\">\n",
       "  <thead>\n",
       "    <tr style=\"text-align: right;\">\n",
       "      <th></th>\n",
       "      <th>Open</th>\n",
       "      <th>High</th>\n",
       "      <th>Low</th>\n",
       "      <th>Close</th>\n",
       "      <th>Adj Close</th>\n",
       "      <th>Volume</th>\n",
       "    </tr>\n",
       "    <tr>\n",
       "      <th>Date</th>\n",
       "      <th></th>\n",
       "      <th></th>\n",
       "      <th></th>\n",
       "      <th></th>\n",
       "      <th></th>\n",
       "      <th></th>\n",
       "    </tr>\n",
       "  </thead>\n",
       "  <tbody>\n",
       "  </tbody>\n",
       "</table>\n",
       "</div>"
      ],
      "text/plain": [
       "Empty DataFrame\n",
       "Columns: [Open, High, Low, Close, Adj Close, Volume]\n",
       "Index: []"
      ]
     },
     "execution_count": 12,
     "metadata": {},
     "output_type": "execute_result"
    }
   ],
   "source": [
    "yfinance.download(\n",
    "            tickers=TICKERS,\n",
    "            start='2019-12-07',\n",
    "            end='2021-12-07',\n",
    "            interval='1h',\n",
    "            auto_adjust=True,\n",
    "            prepost=False,\n",
    "        )"
   ]
  },
  {
   "cell_type": "code",
   "execution_count": 34,
   "id": "3763b414",
   "metadata": {},
   "outputs": [
    {
     "name": "stdout",
     "output_type": "stream",
     "text": [
      "[*********************100%***********************]  1 of 1 completed\n"
     ]
    }
   ],
   "source": [
    "one_hour_data = yfinance.download(\n",
    "            tickers=TICKERS,\n",
    "            start='2021-6-07',\n",
    "            end='2021-12-08',\n",
    "            interval='1h',\n",
    "            auto_adjust=True,\n",
    "            prepost=False,\n",
    "        )"
   ]
  },
  {
   "cell_type": "code",
   "execution_count": 36,
   "id": "772e1c65",
   "metadata": {},
   "outputs": [
    {
     "data": {
      "text/html": [
       "<div>\n",
       "<style scoped>\n",
       "    .dataframe tbody tr th:only-of-type {\n",
       "        vertical-align: middle;\n",
       "    }\n",
       "\n",
       "    .dataframe tbody tr th {\n",
       "        vertical-align: top;\n",
       "    }\n",
       "\n",
       "    .dataframe thead th {\n",
       "        text-align: right;\n",
       "    }\n",
       "</style>\n",
       "<table border=\"1\" class=\"dataframe\">\n",
       "  <thead>\n",
       "    <tr style=\"text-align: right;\">\n",
       "      <th></th>\n",
       "      <th>Open</th>\n",
       "      <th>High</th>\n",
       "      <th>Low</th>\n",
       "      <th>Close</th>\n",
       "      <th>Volume</th>\n",
       "    </tr>\n",
       "  </thead>\n",
       "  <tbody>\n",
       "    <tr>\n",
       "      <th>2021-06-07 09:30:00-04:00</th>\n",
       "      <td>30.750000</td>\n",
       "      <td>31.440001</td>\n",
       "      <td>29.965000</td>\n",
       "      <td>31.344999</td>\n",
       "      <td>7743928</td>\n",
       "    </tr>\n",
       "    <tr>\n",
       "      <th>2021-06-07 10:30:00-04:00</th>\n",
       "      <td>31.349701</td>\n",
       "      <td>31.900000</td>\n",
       "      <td>31.260000</td>\n",
       "      <td>31.580000</td>\n",
       "      <td>4767754</td>\n",
       "    </tr>\n",
       "    <tr>\n",
       "      <th>2021-06-07 11:30:00-04:00</th>\n",
       "      <td>31.570000</td>\n",
       "      <td>32.595001</td>\n",
       "      <td>31.500000</td>\n",
       "      <td>32.558201</td>\n",
       "      <td>5115389</td>\n",
       "    </tr>\n",
       "    <tr>\n",
       "      <th>2021-06-07 12:30:00-04:00</th>\n",
       "      <td>32.555801</td>\n",
       "      <td>32.759998</td>\n",
       "      <td>32.150002</td>\n",
       "      <td>32.165001</td>\n",
       "      <td>4371335</td>\n",
       "    </tr>\n",
       "    <tr>\n",
       "      <th>2021-06-07 13:30:00-04:00</th>\n",
       "      <td>32.160000</td>\n",
       "      <td>32.575001</td>\n",
       "      <td>32.130001</td>\n",
       "      <td>32.459999</td>\n",
       "      <td>3010978</td>\n",
       "    </tr>\n",
       "  </tbody>\n",
       "</table>\n",
       "</div>"
      ],
      "text/plain": [
       "                                Open       High        Low      Close   Volume\n",
       "2021-06-07 09:30:00-04:00  30.750000  31.440001  29.965000  31.344999  7743928\n",
       "2021-06-07 10:30:00-04:00  31.349701  31.900000  31.260000  31.580000  4767754\n",
       "2021-06-07 11:30:00-04:00  31.570000  32.595001  31.500000  32.558201  5115389\n",
       "2021-06-07 12:30:00-04:00  32.555801  32.759998  32.150002  32.165001  4371335\n",
       "2021-06-07 13:30:00-04:00  32.160000  32.575001  32.130001  32.459999  3010978"
      ]
     },
     "execution_count": 36,
     "metadata": {},
     "output_type": "execute_result"
    }
   ],
   "source": [
    "one_hour_data.head()"
   ]
  },
  {
   "cell_type": "code",
   "execution_count": 35,
   "id": "0c4e026f",
   "metadata": {},
   "outputs": [
    {
     "data": {
      "text/html": [
       "<div>\n",
       "<style scoped>\n",
       "    .dataframe tbody tr th:only-of-type {\n",
       "        vertical-align: middle;\n",
       "    }\n",
       "\n",
       "    .dataframe tbody tr th {\n",
       "        vertical-align: top;\n",
       "    }\n",
       "\n",
       "    .dataframe thead th {\n",
       "        text-align: right;\n",
       "    }\n",
       "</style>\n",
       "<table border=\"1\" class=\"dataframe\">\n",
       "  <thead>\n",
       "    <tr style=\"text-align: right;\">\n",
       "      <th></th>\n",
       "      <th>Open</th>\n",
       "      <th>High</th>\n",
       "      <th>Low</th>\n",
       "      <th>Close</th>\n",
       "      <th>Volume</th>\n",
       "    </tr>\n",
       "  </thead>\n",
       "  <tbody>\n",
       "    <tr>\n",
       "      <th>2021-12-07 09:30:00-05:00</th>\n",
       "      <td>35.634998</td>\n",
       "      <td>36.529900</td>\n",
       "      <td>35.500000</td>\n",
       "      <td>36.340000</td>\n",
       "      <td>6392374</td>\n",
       "    </tr>\n",
       "    <tr>\n",
       "      <th>2021-12-07 10:30:00-05:00</th>\n",
       "      <td>36.355000</td>\n",
       "      <td>36.619999</td>\n",
       "      <td>35.490002</td>\n",
       "      <td>35.630001</td>\n",
       "      <td>2960231</td>\n",
       "    </tr>\n",
       "    <tr>\n",
       "      <th>2021-12-07 11:30:00-05:00</th>\n",
       "      <td>35.630001</td>\n",
       "      <td>36.299999</td>\n",
       "      <td>35.590000</td>\n",
       "      <td>36.167500</td>\n",
       "      <td>1552365</td>\n",
       "    </tr>\n",
       "    <tr>\n",
       "      <th>2021-12-07 12:30:00-05:00</th>\n",
       "      <td>36.169998</td>\n",
       "      <td>36.465000</td>\n",
       "      <td>36.102100</td>\n",
       "      <td>36.299999</td>\n",
       "      <td>875025</td>\n",
       "    </tr>\n",
       "    <tr>\n",
       "      <th>2021-12-07 12:58:02-05:00</th>\n",
       "      <td>36.310001</td>\n",
       "      <td>36.310001</td>\n",
       "      <td>36.310001</td>\n",
       "      <td>36.310001</td>\n",
       "      <td>0</td>\n",
       "    </tr>\n",
       "  </tbody>\n",
       "</table>\n",
       "</div>"
      ],
      "text/plain": [
       "                                Open       High        Low      Close   Volume\n",
       "2021-12-07 09:30:00-05:00  35.634998  36.529900  35.500000  36.340000  6392374\n",
       "2021-12-07 10:30:00-05:00  36.355000  36.619999  35.490002  35.630001  2960231\n",
       "2021-12-07 11:30:00-05:00  35.630001  36.299999  35.590000  36.167500  1552365\n",
       "2021-12-07 12:30:00-05:00  36.169998  36.465000  36.102100  36.299999   875025\n",
       "2021-12-07 12:58:02-05:00  36.310001  36.310001  36.310001  36.310001        0"
      ]
     },
     "execution_count": 35,
     "metadata": {},
     "output_type": "execute_result"
    }
   ],
   "source": [
    "one_hour_data.tail()"
   ]
  },
  {
   "cell_type": "code",
   "execution_count": 31,
   "id": "2e4c0f75",
   "metadata": {},
   "outputs": [
    {
     "name": "stdout",
     "output_type": "stream",
     "text": [
      "[*********************100%***********************]  1 of 1 completed\n",
      "\n",
      "1 Failed download:\n",
      "- PLUG: 1m data not available for startTime=1546293600 and endTime=1638899793. Only 7 days worth of 1m granularity data are allowed to be fetched per request.\n"
     ]
    },
    {
     "data": {
      "text/html": [
       "<div>\n",
       "<style scoped>\n",
       "    .dataframe tbody tr th:only-of-type {\n",
       "        vertical-align: middle;\n",
       "    }\n",
       "\n",
       "    .dataframe tbody tr th {\n",
       "        vertical-align: top;\n",
       "    }\n",
       "\n",
       "    .dataframe thead th {\n",
       "        text-align: right;\n",
       "    }\n",
       "</style>\n",
       "<table border=\"1\" class=\"dataframe\">\n",
       "  <thead>\n",
       "    <tr style=\"text-align: right;\">\n",
       "      <th></th>\n",
       "      <th>Open</th>\n",
       "      <th>High</th>\n",
       "      <th>Low</th>\n",
       "      <th>Close</th>\n",
       "      <th>Adj Close</th>\n",
       "      <th>Volume</th>\n",
       "    </tr>\n",
       "    <tr>\n",
       "      <th>Date</th>\n",
       "      <th></th>\n",
       "      <th></th>\n",
       "      <th></th>\n",
       "      <th></th>\n",
       "      <th></th>\n",
       "      <th></th>\n",
       "    </tr>\n",
       "  </thead>\n",
       "  <tbody>\n",
       "  </tbody>\n",
       "</table>\n",
       "</div>"
      ],
      "text/plain": [
       "Empty DataFrame\n",
       "Columns: [Open, High, Low, Close, Adj Close, Volume]\n",
       "Index: []"
      ]
     },
     "execution_count": 31,
     "metadata": {},
     "output_type": "execute_result"
    }
   ],
   "source": [
    "yfinance.download(\n",
    "            tickers=TICKERS,\n",
    "            start=START,\n",
    "            end=END,\n",
    "            interval='1m',\n",
    "            auto_adjust=True,\n",
    "            prepost=False,\n",
    "        )"
   ]
  },
  {
   "cell_type": "markdown",
   "id": "ad1eb2bc",
   "metadata": {},
   "source": [
    "# Data Continuity"
   ]
  },
  {
   "cell_type": "code",
   "execution_count": 15,
   "id": "f52ca2a9",
   "metadata": {},
   "outputs": [
    {
     "data": {
      "image/png": "[encoded data removed]",
      "text/plain": [
       "<Figure size 800x575 with 2 Axes>"
      ]
     },
     "metadata": {},
     "output_type": "display_data"
    }
   ],
   "source": [
    "mpf.plot(tickers_data.loc['2020-01-01':'2020-02-01'], type='candle')"
   ]
  },
  {
   "cell_type": "markdown",
   "id": "9fcd0110",
   "metadata": {},
   "source": [
    "We can see that there is noise between weekends or other holidays when the market is not open."
   ]
  },
  {
   "cell_type": "markdown",
   "id": "9b5d38a1",
   "metadata": {},
   "source": [
    "# Stock Splits Continuity"
   ]
  },
  {
   "cell_type": "markdown",
   "id": "d51cf608",
   "metadata": {},
   "source": [
    "A stock split was made on the APPL stock on 31 August 2021. Lets see if the data is readjusted to the split."
   ]
  },
  {
   "cell_type": "code",
   "execution_count": 16,
   "id": "647cb4b1",
   "metadata": {},
   "outputs": [
    {
     "data": {
      "text/html": [
       "<div>\n",
       "<style scoped>\n",
       "    .dataframe tbody tr th:only-of-type {\n",
       "        vertical-align: middle;\n",
       "    }\n",
       "\n",
       "    .dataframe tbody tr th {\n",
       "        vertical-align: top;\n",
       "    }\n",
       "\n",
       "    .dataframe thead th {\n",
       "        text-align: right;\n",
       "    }\n",
       "</style>\n",
       "<table border=\"1\" class=\"dataframe\">\n",
       "  <thead>\n",
       "    <tr style=\"text-align: right;\">\n",
       "      <th></th>\n",
       "      <th>Open</th>\n",
       "      <th>High</th>\n",
       "      <th>Low</th>\n",
       "      <th>Close</th>\n",
       "      <th>Volume</th>\n",
       "      <th>Dividends</th>\n",
       "      <th>Stock Splits</th>\n",
       "    </tr>\n",
       "    <tr>\n",
       "      <th>Date</th>\n",
       "      <th></th>\n",
       "      <th></th>\n",
       "      <th></th>\n",
       "      <th></th>\n",
       "      <th></th>\n",
       "      <th></th>\n",
       "      <th></th>\n",
       "    </tr>\n",
       "  </thead>\n",
       "  <tbody>\n",
       "    <tr>\n",
       "      <th>2020-08-20</th>\n",
       "      <td>13.98</td>\n",
       "      <td>13.99</td>\n",
       "      <td>12.87</td>\n",
       "      <td>13.67</td>\n",
       "      <td>34901200</td>\n",
       "      <td>0</td>\n",
       "      <td>0</td>\n",
       "    </tr>\n",
       "    <tr>\n",
       "      <th>2020-08-21</th>\n",
       "      <td>13.45</td>\n",
       "      <td>13.93</td>\n",
       "      <td>12.69</td>\n",
       "      <td>12.93</td>\n",
       "      <td>43700200</td>\n",
       "      <td>0</td>\n",
       "      <td>0</td>\n",
       "    </tr>\n",
       "    <tr>\n",
       "      <th>2020-08-24</th>\n",
       "      <td>13.00</td>\n",
       "      <td>13.27</td>\n",
       "      <td>11.81</td>\n",
       "      <td>12.34</td>\n",
       "      <td>37289600</td>\n",
       "      <td>0</td>\n",
       "      <td>0</td>\n",
       "    </tr>\n",
       "    <tr>\n",
       "      <th>2020-08-25</th>\n",
       "      <td>12.36</td>\n",
       "      <td>12.92</td>\n",
       "      <td>12.33</td>\n",
       "      <td>12.85</td>\n",
       "      <td>20871000</td>\n",
       "      <td>0</td>\n",
       "      <td>0</td>\n",
       "    </tr>\n",
       "    <tr>\n",
       "      <th>2020-08-26</th>\n",
       "      <td>12.88</td>\n",
       "      <td>13.72</td>\n",
       "      <td>12.78</td>\n",
       "      <td>13.05</td>\n",
       "      <td>31613800</td>\n",
       "      <td>0</td>\n",
       "      <td>0</td>\n",
       "    </tr>\n",
       "    <tr>\n",
       "      <th>2020-08-27</th>\n",
       "      <td>13.08</td>\n",
       "      <td>13.42</td>\n",
       "      <td>12.69</td>\n",
       "      <td>12.99</td>\n",
       "      <td>19234800</td>\n",
       "      <td>0</td>\n",
       "      <td>0</td>\n",
       "    </tr>\n",
       "    <tr>\n",
       "      <th>2020-08-28</th>\n",
       "      <td>13.10</td>\n",
       "      <td>13.17</td>\n",
       "      <td>12.70</td>\n",
       "      <td>13.07</td>\n",
       "      <td>14974200</td>\n",
       "      <td>0</td>\n",
       "      <td>0</td>\n",
       "    </tr>\n",
       "    <tr>\n",
       "      <th>2020-08-31</th>\n",
       "      <td>13.11</td>\n",
       "      <td>13.33</td>\n",
       "      <td>12.76</td>\n",
       "      <td>12.98</td>\n",
       "      <td>16437500</td>\n",
       "      <td>0</td>\n",
       "      <td>0</td>\n",
       "    </tr>\n",
       "    <tr>\n",
       "      <th>2020-09-01</th>\n",
       "      <td>13.05</td>\n",
       "      <td>14.20</td>\n",
       "      <td>12.78</td>\n",
       "      <td>14.13</td>\n",
       "      <td>29805200</td>\n",
       "      <td>0</td>\n",
       "      <td>0</td>\n",
       "    </tr>\n",
       "    <tr>\n",
       "      <th>2020-09-02</th>\n",
       "      <td>14.00</td>\n",
       "      <td>14.09</td>\n",
       "      <td>12.50</td>\n",
       "      <td>13.14</td>\n",
       "      <td>29099000</td>\n",
       "      <td>0</td>\n",
       "      <td>0</td>\n",
       "    </tr>\n",
       "    <tr>\n",
       "      <th>2020-09-03</th>\n",
       "      <td>12.88</td>\n",
       "      <td>13.11</td>\n",
       "      <td>11.50</td>\n",
       "      <td>11.55</td>\n",
       "      <td>32688500</td>\n",
       "      <td>0</td>\n",
       "      <td>0</td>\n",
       "    </tr>\n",
       "    <tr>\n",
       "      <th>2020-09-04</th>\n",
       "      <td>12.15</td>\n",
       "      <td>12.17</td>\n",
       "      <td>10.56</td>\n",
       "      <td>11.76</td>\n",
       "      <td>34206000</td>\n",
       "      <td>0</td>\n",
       "      <td>0</td>\n",
       "    </tr>\n",
       "    <tr>\n",
       "      <th>2020-09-08</th>\n",
       "      <td>11.31</td>\n",
       "      <td>12.25</td>\n",
       "      <td>11.11</td>\n",
       "      <td>11.73</td>\n",
       "      <td>25860400</td>\n",
       "      <td>0</td>\n",
       "      <td>0</td>\n",
       "    </tr>\n",
       "    <tr>\n",
       "      <th>2020-09-09</th>\n",
       "      <td>11.95</td>\n",
       "      <td>12.29</td>\n",
       "      <td>11.81</td>\n",
       "      <td>12.13</td>\n",
       "      <td>17737900</td>\n",
       "      <td>0</td>\n",
       "      <td>0</td>\n",
       "    </tr>\n",
       "    <tr>\n",
       "      <th>2020-09-10</th>\n",
       "      <td>12.22</td>\n",
       "      <td>12.55</td>\n",
       "      <td>11.98</td>\n",
       "      <td>12.12</td>\n",
       "      <td>22876400</td>\n",
       "      <td>0</td>\n",
       "      <td>0</td>\n",
       "    </tr>\n",
       "  </tbody>\n",
       "</table>\n",
       "</div>"
      ],
      "text/plain": [
       "             Open   High    Low  Close    Volume  Dividends  Stock Splits\n",
       "Date                                                                     \n",
       "2020-08-20  13.98  13.99  12.87  13.67  34901200          0             0\n",
       "2020-08-21  13.45  13.93  12.69  12.93  43700200          0             0\n",
       "2020-08-24  13.00  13.27  11.81  12.34  37289600          0             0\n",
       "2020-08-25  12.36  12.92  12.33  12.85  20871000          0             0\n",
       "2020-08-26  12.88  13.72  12.78  13.05  31613800          0             0\n",
       "2020-08-27  13.08  13.42  12.69  12.99  19234800          0             0\n",
       "2020-08-28  13.10  13.17  12.70  13.07  14974200          0             0\n",
       "2020-08-31  13.11  13.33  12.76  12.98  16437500          0             0\n",
       "2020-09-01  13.05  14.20  12.78  14.13  29805200          0             0\n",
       "2020-09-02  14.00  14.09  12.50  13.14  29099000          0             0\n",
       "2020-09-03  12.88  13.11  11.50  11.55  32688500          0             0\n",
       "2020-09-04  12.15  12.17  10.56  11.76  34206000          0             0\n",
       "2020-09-08  11.31  12.25  11.11  11.73  25860400          0             0\n",
       "2020-09-09  11.95  12.29  11.81  12.13  17737900          0             0\n",
       "2020-09-10  12.22  12.55  11.98  12.12  22876400          0             0"
      ]
     },
     "execution_count": 16,
     "metadata": {},
     "output_type": "execute_result"
    }
   ],
   "source": [
    "tickers_data_with_actions.loc['2020-08-20':'2020-9-10']"
   ]
  },
  {
   "cell_type": "code",
   "execution_count": 17,
   "id": "d3dcf4a9",
   "metadata": {},
   "outputs": [
    {
     "data": {
      "image/png": "[encoded data removed]",
      "text/plain": [
       "<Figure size 800x575 with 2 Axes>"
      ]
     },
     "metadata": {},
     "output_type": "display_data"
    }
   ],
   "source": [
    "mpf.plot(tickers_data_with_actions.loc['2020-07-01':'2020-10-01'], type='candle')"
   ]
  },
  {
   "cell_type": "markdown",
   "id": "74bb181e",
   "metadata": {},
   "source": [
    "We can see that prices are adjusted to stock splits."
   ]
  },
  {
   "cell_type": "markdown",
   "id": "0b9bc57c",
   "metadata": {},
   "source": [
    "# Log Difference"
   ]
  },
  {
   "cell_type": "code",
   "execution_count": 18,
   "id": "f874feb4",
   "metadata": {},
   "outputs": [
    {
     "name": "stdout",
     "output_type": "stream",
     "text": [
      "Shape: (741, 5)\n",
      "Min: 0.20701418489122547\n",
      "Max: 18.846554178237042\n"
     ]
    }
   ],
   "source": [
    "tickers_data_values = tickers_data.values\n",
    "tickers_data_values = np.log(tickers_data_values)\n",
    "print(f'Shape: {tickers_data_values.shape}')\n",
    "print(f'Min: {tickers_data_values.min()}')\n",
    "print(f'Max: {tickers_data_values.max()}')"
   ]
  },
  {
   "cell_type": "code",
   "execution_count": 19,
   "id": "cb27d0f6",
   "metadata": {},
   "outputs": [
    {
     "name": "stdout",
     "output_type": "stream",
     "text": [
      "Shape: (741, 5)\n",
      "Min: -1.197198004257304\n",
      "Max: 2.038403984357114\n"
     ]
    }
   ],
   "source": [
    "tickers_data_diff = np.diff(tickers_data_values, axis=0, prepend=tickers_data_values[0, :].reshape(1, -1))\n",
    "print(f'Shape: {tickers_data_diff.shape}')\n",
    "print(f'Min: {tickers_data_diff.min()}')\n",
    "print(f'Max: {tickers_data_diff.max()}')"
   ]
  },
  {
   "cell_type": "code",
   "execution_count": 20,
   "id": "99ef06d7",
   "metadata": {},
   "outputs": [
    {
     "data": {
      "text/plain": [
       "array([0., 0., 0., 0., 0.])"
      ]
     },
     "execution_count": 20,
     "metadata": {},
     "output_type": "execute_result"
    }
   ],
   "source": [
    "tickers_data_diff[0]"
   ]
  },
  {
   "cell_type": "code",
   "execution_count": 21,
   "id": "5d2e8ab0",
   "metadata": {},
   "outputs": [
    {
     "data": {
      "text/plain": [
       "array([-0.09237332, -0.0073801 ,  0.        ,  0.07006759, -0.10121527])"
      ]
     },
     "execution_count": 21,
     "metadata": {},
     "output_type": "execute_result"
    }
   ],
   "source": [
    "tickers_data_diff[1]"
   ]
  },
  {
   "cell_type": "code",
   "execution_count": 22,
   "id": "fe3b9fa7",
   "metadata": {},
   "outputs": [
    {
     "data": {
      "text/plain": [
       "array([ 0.09270375,  0.04937554,  0.12103321,  0.06453854, -0.51130652])"
      ]
     },
     "execution_count": 22,
     "metadata": {},
     "output_type": "execute_result"
    }
   ],
   "source": [
    "tickers_data_diff[-1]"
   ]
  },
  {
   "cell_type": "code",
   "execution_count": 23,
   "id": "d4a33173",
   "metadata": {},
   "outputs": [
    {
     "data": {
      "text/plain": [
       "[<matplotlib.lines.Line2D at 0x7f303ae2f850>]"
      ]
     },
     "execution_count": 23,
     "metadata": {},
     "output_type": "execute_result"
    },
    {
     "data": {
      "image/png": "[encoded data removed]",
      "text/plain": [
       "<Figure size 640x480 with 1 Axes>"
      ]
     },
     "metadata": {},
     "output_type": "display_data"
    }
   ],
   "source": [
    "# plot open prices\n",
    "plt.plot(tickers_data_diff[:, 0])"
   ]
  },
  {
   "cell_type": "code",
   "execution_count": 24,
   "id": "34c5d337",
   "metadata": {},
   "outputs": [
    {
     "data": {
      "text/plain": [
       "[<matplotlib.lines.Line2D at 0x7f3044071fd0>]"
      ]
     },
     "execution_count": 24,
     "metadata": {},
     "output_type": "execute_result"
    },
    {
     "data": {
      "image/png": "[encoded data removed]",
      "text/plain": [
       "<Figure size 640x480 with 1 Axes>"
      ]
     },
     "metadata": {},
     "output_type": "display_data"
    }
   ],
   "source": [
    "# plot high prices\n",
    "plt.plot(tickers_data_diff[:, 1])"
   ]
  },
  {
   "cell_type": "code",
   "execution_count": 25,
   "id": "7a5880ad",
   "metadata": {},
   "outputs": [
    {
     "data": {
      "text/plain": [
       "[<matplotlib.lines.Line2D at 0x7f303ae0ff10>]"
      ]
     },
     "execution_count": 25,
     "metadata": {},
     "output_type": "execute_result"
    },
    {
     "data": {
      "image/png": "[encoded data removed]",
      "text/plain": [
       "<Figure size 640x480 with 1 Axes>"
      ]
     },
     "metadata": {},
     "output_type": "display_data"
    }
   ],
   "source": [
    "# plot low prices\n",
    "plt.plot(tickers_data_diff[:, 2])"
   ]
  },
  {
   "cell_type": "code",
   "execution_count": 26,
   "id": "e5e487bc",
   "metadata": {},
   "outputs": [
    {
     "data": {
      "text/plain": [
       "[<matplotlib.lines.Line2D at 0x7f303aff3ca0>]"
      ]
     },
     "execution_count": 26,
     "metadata": {},
     "output_type": "execute_result"
    },
    {
     "data": {
      "image/png": "[encoded data removed]",
      "text/plain": [
       "<Figure size 640x480 with 1 Axes>"
      ]
     },
     "metadata": {},
     "output_type": "display_data"
    }
   ],
   "source": [
    "# plot closing prices\n",
    "plt.plot(tickers_data_diff[:, 3])"
   ]
  },
  {
   "cell_type": "code",
   "execution_count": 27,
   "id": "b2c4fc7d",
   "metadata": {},
   "outputs": [
    {
     "data": {
      "text/plain": [
       "[<matplotlib.lines.Line2D at 0x7f303aeced60>]"
      ]
     },
     "execution_count": 27,
     "metadata": {},
     "output_type": "execute_result"
    },
    {
     "data": {
      "image/png": "[encoded data removed]",
      "text/plain": [
       "<Figure size 640x480 with 1 Axes>"
      ]
     },
     "metadata": {},
     "output_type": "display_data"
    }
   ],
   "source": [
    "# plot volume \n",
    "plt.plot(tickers_data_diff[:, 4])"
   ]
  },
  {
   "cell_type": "code",
   "execution_count": null,
   "id": "b910d1b6",
   "metadata": {},
   "outputs": [],
   "source": []
  }
 ],
 "metadata": {
  "kernelspec": {
   "display_name": "Python 3 (ipykernel)",
   "language": "python",
   "name": "python3"
  },
  "language_info": {
   "codemirror_mode": {
    "name": "ipython",
    "version": 3
   },
   "file_extension": ".py",
   "mimetype": "text/x-python",
   "name": "python",
   "nbconvert_exporter": "python",
   "pygments_lexer": "ipython3",
   "version": "3.8.10"
  }
 },
 "nbformat": 4,
 "nbformat_minor": 5
}
